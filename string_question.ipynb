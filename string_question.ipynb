{
 "cells": [
  {
   "cell_type": "markdown",
   "metadata": {},
   "source": [
    "# question\n",
    "- Remove all the vowels from a sring the is provided by the user"
   ]
  },
  {
   "cell_type": "code",
   "execution_count": 18,
   "metadata": {},
   "outputs": [
    {
     "name": "stdout",
     "output_type": "stream",
     "text": [
      "this => 2\n",
      "that => 2\n"
     ]
    }
   ],
   "source": [
    "msg = input(\"enter somethings:\")\n",
    "words = set(msg.split())\n",
    "for w in words:\n",
    "    c = msg.count(w)\n",
    "    print(w,'=>',c)"
   ]
  },
  {
   "cell_type": "code",
   "execution_count": 20,
   "metadata": {},
   "outputs": [
    {
     "name": "stdout",
     "output_type": "stream",
     "text": [
      "simple found at position 55\n"
     ]
    }
   ],
   "source": [
    "story = '''This is an example of another story, this story is not simple and is not very long, but it is a story'''\n",
    "\n",
    "q = input(\"enter search terms:\")\n",
    "start = 0\n",
    "while True:\n",
    "    idx = story.find(q,start)\n",
    "    if idx == -1:\n",
    "        break\n",
    "    print(f'{q} found at position {idx}')\n",
    "    start = idx+1"
   ]
  },
  {
   "cell_type": "code",
   "execution_count": 23,
   "metadata": {},
   "outputs": [
    {
     "name": "stdout",
     "output_type": "stream",
     "text": [
      "Th3s 3s 1n 2x1mpl2 4f 1n4th2r st4ry,th3s st4ry 3s n4t s3mpl2 1nd 3s n4t v2ry l4ng,b5t 3t 3s 1st4ry\n"
     ]
    }
   ],
   "source": [
    "story = '''This is an example of another story,this story is not simple and is not very long,but it is astory'''\n",
    "\n",
    "for v in \"aieouAEIOU\":\n",
    "    if v == 'a' or v == 'A':\n",
    "        story = story.replace(v,'1')\n",
    "    if v == 'e' or v == 'E':\n",
    "        story = story.replace(v,'2')\n",
    "    if v == 'i' or v == 'I':\n",
    "        story = story.replace(v,'3')\n",
    "    if v == 'o' or v == 'O':\n",
    "        story = story.replace(v,'4')\n",
    "    if v == 'u' or v == 'U':\n",
    "        story = story.replace(v,'5')\n",
    "print(story)    \n"
   ]
  },
  {
   "cell_type": "code",
   "execution_count": null,
   "metadata": {},
   "outputs": [],
   "source": []
  }
 ],
 "metadata": {
  "interpreter": {
   "hash": "27cc5fa2f1c0690f64ae09bbe4550c209ad4047394f2de3349078307a048dc7a"
  },
  "kernelspec": {
   "display_name": "Python 3.9.12 ('base')",
   "language": "python",
   "name": "python3"
  },
  "language_info": {
   "codemirror_mode": {
    "name": "ipython",
    "version": 3
   },
   "file_extension": ".py",
   "mimetype": "text/x-python",
   "name": "python",
   "nbconvert_exporter": "python",
   "pygments_lexer": "ipython3",
   "version": "3.9.12"
  },
  "orig_nbformat": 4
 },
 "nbformat": 4,
 "nbformat_minor": 2
}
