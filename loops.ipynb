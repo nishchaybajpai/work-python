{
 "cells": [
  {
   "cell_type": "code",
   "execution_count": 1,
   "metadata": {},
   "outputs": [
    {
     "name": "stdout",
     "output_type": "stream",
     "text": [
      "1\n",
      "2\n",
      "3\n",
      "4\n",
      "5\n",
      "6\n",
      "7\n",
      "8\n",
      "9\n",
      "10\n",
      "11\n",
      "12\n",
      "13\n",
      "14\n",
      "15\n",
      "16\n",
      "17\n",
      "18\n",
      "19\n",
      "20\n"
     ]
    }
   ],
   "source": [
    "print(1)\n",
    "print(2)\n",
    "print(3)\n",
    "print(4)\n",
    "print(5)\n",
    "print(6)\n",
    "print(7)\n",
    "print(8)\n",
    "print(9)\n",
    "print(10)\n",
    "print(11)\n",
    "print(12)\n",
    "print(13)\n",
    "print(14)\n",
    "print(15)\n",
    "print(16)\n",
    "print(17)\n",
    "print(18)\n",
    "print(19)\n",
    "print(20)\n"
   ]
  },
  {
   "cell_type": "code",
   "execution_count": 2,
   "metadata": {},
   "outputs": [
    {
     "name": "stdout",
     "output_type": "stream",
     "text": [
      "P\n",
      "Y\n",
      "T\n",
      "H\n",
      "O\n",
      "N\n"
     ]
    }
   ],
   "source": [
    "x = \"PYTHON\"\n",
    "for i in x:\n",
    "    print(i)"
   ]
  },
  {
   "cell_type": "markdown",
   "metadata": {},
   "source": [
    "For Loop"
   ]
  },
  {
   "cell_type": "code",
   "execution_count": 3,
   "metadata": {},
   "outputs": [
    {
     "name": "stdout",
     "output_type": "stream",
     "text": [
      "t\n",
      "h\n",
      "i\n",
      "s\n",
      " \n",
      "i\n",
      "s\n",
      " \n",
      "S\n",
      "p\n",
      "a\n",
      "r\n",
      "t\n",
      "a\n"
     ]
    }
   ],
   "source": [
    "word = \"this is Sparta\"\n",
    "for i in word:\n",
    "    print(i)"
   ]
  },
  {
   "cell_type": "code",
   "execution_count": 6,
   "metadata": {},
   "outputs": [
    {
     "name": "stdout",
     "output_type": "stream",
     "text": [
      "i have apple\n",
      "i have banana\n",
      "i have lemon\n"
     ]
    }
   ],
   "source": [
    "fruits = ['apple','banana','lemon']\n",
    "for item in fruits:\n",
    "    print(f'i have {item}')"
   ]
  },
  {
   "cell_type": "code",
   "execution_count": 7,
   "metadata": {},
   "outputs": [
    {
     "name": "stdout",
     "output_type": "stream",
     "text": [
      "0\n",
      "1\n",
      "2\n",
      "3\n",
      "4\n"
     ]
    }
   ],
   "source": [
    "for i in range(5):\n",
    "    print(i)"
   ]
  },
  {
   "cell_type": "code",
   "execution_count": 8,
   "metadata": {},
   "outputs": [
    {
     "name": "stdout",
     "output_type": "stream",
     "text": [
      "you got point 0\n",
      "you got point 1\n",
      "you got point 2\n",
      "you got point 3\n",
      "you got point 4\n",
      "you got point 5\n"
     ]
    }
   ],
   "source": [
    "for i in range(6):\n",
    "    print('you got point',i)"
   ]
  },
  {
   "cell_type": "code",
   "execution_count": 9,
   "metadata": {},
   "outputs": [
    {
     "name": "stdout",
     "output_type": "stream",
     "text": [
      "level 1\n",
      "level 4\n",
      "level 7\n"
     ]
    }
   ],
   "source": [
    "for num in range(1,10,3):\n",
    "    print('level',num)"
   ]
  },
  {
   "cell_type": "code",
   "execution_count": null,
   "metadata": {},
   "outputs": [],
   "source": []
  },
  {
   "cell_type": "code",
   "execution_count": 10,
   "metadata": {},
   "outputs": [
    {
     "name": "stdout",
     "output_type": "stream",
     "text": [
      "10\n",
      "9\n",
      "8\n",
      "7\n",
      "6\n"
     ]
    }
   ],
   "source": [
    "# reverse loop\n",
    "for num in range(10,5,-1):\n",
    "    print(num)"
   ]
  },
  {
   "cell_type": "code",
   "execution_count": 11,
   "metadata": {},
   "outputs": [
    {
     "name": "stdout",
     "output_type": "stream",
     "text": [
      "\n",
      "Na\n",
      "NaNa\n",
      "NaNaNa\n",
      "NaNaNaNa\n",
      "NaNaNaNaNa\n",
      "NaNaNaNaNaNa\n",
      "NaNaNaNaNaNaNa\n",
      "NaNaNaNaNaNaNaNa\n",
      "NaNaNaNaNaNaNaNaNa\n",
      "NaNaNaNaNaNaNaNaNaNa\n",
      "NaNaNaNaNaNaNaNaNaNaNa\n",
      "NaNaNaNaNaNaNaNaNaNaNaNa\n",
      "NaNaNaNaNaNaNaNaNaNaNaNaNa\n",
      "NaNaNaNaNaNaNaNaNaNaNaNaNaNa\n",
      "NaNaNaNaNaNaNaNaNaNaNaNaNaNaNa\n",
      "NaNaNaNaNaNaNaNaNaNaNaNaNaNaNaNa\n",
      "NaNaNaNaNaNaNaNaNaNaNaNaNaNaNaNaNa\n",
      "NaNaNaNaNaNaNaNaNaNaNaNaNaNaNaNaNaNa\n",
      "NaNaNaNaNaNaNaNaNaNaNaNaNaNaNaNaNaNaNa\n"
     ]
    }
   ],
   "source": [
    "#pattern loop\n",
    "for i in range(20):\n",
    "    print(i*'Na')"
   ]
  },
  {
   "cell_type": "code",
   "execution_count": 15,
   "metadata": {},
   "outputs": [
    {
     "name": "stdout",
     "output_type": "stream",
     "text": [
      "15\n",
      "30\n",
      "45\n",
      "60\n",
      "75\n",
      "90\n"
     ]
    }
   ],
   "source": [
    "for num in range(1,101):\n",
    "    if num%3==0 and num%5==0:\n",
    "        print(num)"
   ]
  },
  {
   "cell_type": "code",
   "execution_count": 19,
   "metadata": {},
   "outputs": [
    {
     "name": "stdout",
     "output_type": "stream",
     "text": [
      "Paris contains 5 characters\n",
      "London contains 6 characters\n",
      "New York contains 8 characters\n",
      "Madrid contains 6 characters\n",
      "Rome contains 4 characters\n"
     ]
    }
   ],
   "source": [
    "places = [\"Paris\",\"London\",\"New York\",\"Madrid\",\"Rome\"]\n",
    "for place in places:\n",
    "    print(f'{place} contains {len(place)} characters')"
   ]
  },
  {
   "cell_type": "code",
   "execution_count": 26,
   "metadata": {},
   "outputs": [
    {
     "name": "stdout",
     "output_type": "stream",
     "text": [
      "3\n"
     ]
    }
   ],
   "source": [
    "x = [5,5,6,9,8,9,6,4,5,8]\n",
    "c = 0\n",
    "for i in x:\n",
    "    if i == 5:\n",
    "        c += 1\n",
    "print(c)"
   ]
  },
  {
   "cell_type": "markdown",
   "metadata": {},
   "source": [
    "while loop\n"
   ]
  },
  {
   "cell_type": "code",
   "execution_count": 1,
   "metadata": {},
   "outputs": [
    {
     "name": "stdout",
     "output_type": "stream",
     "text": [
      "run\n",
      "run\n",
      "run\n",
      "run\n",
      "run\n",
      "run\n",
      "run\n",
      "run\n",
      "run\n",
      "stop\n"
     ]
    }
   ],
   "source": [
    "x = 1\n",
    "while x <10:\n",
    "    print('run')\n",
    "    x+=1\n",
    "print('stop')"
   ]
  },
  {
   "cell_type": "code",
   "execution_count": 2,
   "metadata": {},
   "outputs": [
    {
     "name": "stdout",
     "output_type": "stream",
     "text": [
      "The sum is 55\n"
     ]
    }
   ],
   "source": [
    "# a complex program\n",
    "n =10\n",
    "\n",
    "# initialize sum and counter\n",
    "sum = 0\n",
    "i = 1\n",
    "\n",
    "while i <= n:\n",
    "    sum = sum + i\n",
    "    i = i+1     # update counter\n",
    "\n",
    "# print the sum\n",
    "print(\"The sum is\", sum)\n"
   ]
  },
  {
   "cell_type": "code",
   "execution_count": 3,
   "metadata": {},
   "outputs": [
    {
     "name": "stdout",
     "output_type": "stream",
     "text": [
      "you continued running this loop\n"
     ]
    }
   ],
   "source": [
    "while input(\"continue?\")  == \"y\":\n",
    "    print(\"you continued running this loop\")"
   ]
  },
  {
   "cell_type": "code",
   "execution_count": 4,
   "metadata": {},
   "outputs": [
    {
     "name": "stdout",
     "output_type": "stream",
     "text": [
      "you entered a place\n",
      "you entered a place\n"
     ]
    }
   ],
   "source": [
    "while len(input(\"name a place\")) > 0:\n",
    "    print(\"you entered a place\")"
   ]
  },
  {
   "cell_type": "code",
   "execution_count": 5,
   "metadata": {},
   "outputs": [],
   "source": [
    "num = int(input('enter a num'))\n",
    "while num > 0:\n",
    "    if num % 5 ==0:\n",
    "        break\n",
    "    print(num)\n",
    "    num -= 1"
   ]
  },
  {
   "cell_type": "code",
   "execution_count": 7,
   "metadata": {},
   "outputs": [],
   "source": [
    "story = \"\"\n",
    "while True:\n",
    "    line = input(\"enter a line\")\n",
    "    if line == \"\":\n",
    "        break\n",
    "    story += line + \"\\n\""
   ]
  },
  {
   "cell_type": "code",
   "execution_count": 8,
   "metadata": {},
   "outputs": [
    {
     "name": "stdout",
     "output_type": "stream",
     "text": [
      "ram is good boy\n",
      "he is honest\n",
      "he go school\n",
      "yes\n",
      "\n"
     ]
    }
   ],
   "source": [
    "print(story)"
   ]
  },
  {
   "cell_type": "code",
   "execution_count": 9,
   "metadata": {},
   "outputs": [
    {
     "data": {
      "text/plain": [
       "55"
      ]
     },
     "execution_count": 9,
     "metadata": {},
     "output_type": "execute_result"
    }
   ],
   "source": [
    "num"
   ]
  },
  {
   "cell_type": "code",
   "execution_count": 12,
   "metadata": {},
   "outputs": [
    {
     "name": "stdout",
     "output_type": "stream",
     "text": [
      "2\n",
      "5\n",
      "9\n",
      "7\n",
      "5\n",
      "7\n",
      "56\n",
      "6\n"
     ]
    }
   ],
   "source": [
    "x = [2,5,9,7,0,5,7,0,56,0,6]\n",
    "for i in x:\n",
    "    if i == 0:\n",
    "        continue\n",
    "    print(i)"
   ]
  },
  {
   "cell_type": "code",
   "execution_count": 14,
   "metadata": {},
   "outputs": [
    {
     "name": "stdout",
     "output_type": "stream",
     "text": [
      "we have apple\n",
      "we have banana\n",
      "we have mango\n",
      "thats all\n"
     ]
    }
   ],
   "source": [
    "fruits = ['apple','banana','mango']\n",
    "for fruit in fruits:\n",
    "    print('we have',fruit)\n",
    "else:\n",
    "    print('thats all')"
   ]
  },
  {
   "cell_type": "code",
   "execution_count": 16,
   "metadata": {},
   "outputs": [
    {
     "name": "stdout",
     "output_type": "stream",
     "text": [
      "looking attomato\n",
      "looking atonion\n",
      "looking atcarrot\n",
      "potato not found\n"
     ]
    }
   ],
   "source": [
    "vegs = ['tomato','onion','carrot']\n",
    "for veg in vegs:\n",
    "    print(f'looking at{veg}')\n",
    "    if veg == 'potato':\n",
    "        print('potato found')\n",
    "        break\n",
    "else:\n",
    "    print('potato not found')"
   ]
  },
  {
   "cell_type": "code",
   "execution_count": 18,
   "metadata": {},
   "outputs": [
    {
     "name": "stdout",
     "output_type": "stream",
     "text": [
      "6/2 == 0\n",
      "6 is not a prime number\n"
     ]
    }
   ],
   "source": [
    "# prime number\n",
    "num = int(input('enter a num='))\n",
    "for i in range(2,num):\n",
    "\n",
    "    print(f'{num}/{i} == {num%i}')\n",
    "\n",
    "    if num%i == 0:\n",
    "        print(f'{num} is not a prime number')\n",
    "        break\n",
    "    else:\n",
    "        print(f'{num} is a prime number')"
   ]
  },
  {
   "cell_type": "markdown",
   "metadata": {},
   "source": [
    "enumerate and zip\n"
   ]
  },
  {
   "cell_type": "code",
   "execution_count": 21,
   "metadata": {},
   "outputs": [
    {
     "name": "stdout",
     "output_type": "stream",
     "text": [
      "['tomato', 'onion', 'carrot']\n",
      "['tomato', 'onion', 'carrot']\n",
      "['tomato', 'onion', 'carrot']\n"
     ]
    }
   ],
   "source": [
    "for veg in vegs:\n",
    "    print(vegs)"
   ]
  },
  {
   "cell_type": "code",
   "execution_count": 22,
   "metadata": {},
   "outputs": [
    {
     "name": "stdout",
     "output_type": "stream",
     "text": [
      "0 tomato\n",
      "1 onion\n",
      "2 carrot\n"
     ]
    }
   ],
   "source": [
    "for idx, val in enumerate(vegs):\n",
    "    print(idx,val)"
   ]
  },
  {
   "cell_type": "code",
   "execution_count": 23,
   "metadata": {},
   "outputs": [
    {
     "name": "stdout",
     "output_type": "stream",
     "text": [
      "10 13 21 21 20 13 17 21 23 "
     ]
    }
   ],
   "source": [
    "x = [1,2,3,5,6,5,8,8,8]\n",
    "y = [4,5,9,8,7,3,6,5,7]\n",
    "z = [5,6,9,8,7,5,3,8,8]\n",
    "\n",
    "for i,j,k in zip(x,y,z):\n",
    "    print(i+j+k ,end= ' ')"
   ]
  },
  {
   "cell_type": "code",
   "execution_count": 7,
   "metadata": {},
   "outputs": [
    {
     "name": "stdout",
     "output_type": "stream",
     "text": [
      "we have ['apple', 'banana', 'mango']\n",
      "we have ['apple', 'banana', 'mango']\n",
      "we have ['apple', 'banana', 'mango']\n",
      "thats all\n"
     ]
    }
   ],
   "source": [
    "fruits = ['apple','banana','mango']\n",
    "for fruit in fruits:\n",
    "    print('we have',fruits)\n",
    "else:\n",
    "    print('thats all')"
   ]
  },
  {
   "cell_type": "code",
   "execution_count": 8,
   "metadata": {},
   "outputs": [
    {
     "name": "stdout",
     "output_type": "stream",
     "text": [
      "simple interest: 0.24\n",
      "amount: 2.24\n"
     ]
    }
   ],
   "source": [
    "p = float(input(\"enter principal amt\"))\n",
    "r = float(input(\"enter rate of interest:\"))\n",
    "t = float(input(\"enter timme\"))\n",
    "si = p * r * t / 100\n",
    "a = si + p\n",
    "print(f'simple interest: {si}')\n",
    "print(f'amount: {a}')"
   ]
  },
  {
   "cell_type": "code",
   "execution_count": 11,
   "metadata": {},
   "outputs": [],
   "source": [
    "q = input(\"do you like lichi?\")\n",
    "if q == 'yes' or q == 'y' or q == 'ji':\n",
    "\n",
    "    print('lichi is the best')\n",
    "if q == 'no' or q == 'n':\n",
    "    print('lichi is the worst')"
   ]
  },
  {
   "cell_type": "code",
   "execution_count": 14,
   "metadata": {},
   "outputs": [
    {
     "name": "stdout",
     "output_type": "stream",
     "text": [
      "HRA: 6%\n"
     ]
    }
   ],
   "source": [
    "salary = 19000\n",
    "if salary > 20000:\n",
    "    hra = '5%'\n",
    "else:\n",
    "    hra = '6%'\n",
    "print(f'HRA: {hra}')"
   ]
  },
  {
   "cell_type": "code",
   "execution_count": 19,
   "metadata": {},
   "outputs": [
    {
     "name": "stdout",
     "output_type": "stream",
     "text": [
      "HRA: 6%\n"
     ]
    }
   ],
   "source": [
    "hra = '5%' if salary > 20000 else '6%'\n",
    "print(f'HRA: {hra}')"
   ]
  },
  {
   "cell_type": "code",
   "execution_count": null,
   "metadata": {},
   "outputs": [],
   "source": []
  }
 ],
 "metadata": {
  "interpreter": {
   "hash": "27cc5fa2f1c0690f64ae09bbe4550c209ad4047394f2de3349078307a048dc7a"
  },
  "kernelspec": {
   "display_name": "Python 3.9.12 ('base')",
   "language": "python",
   "name": "python3"
  },
  "language_info": {
   "codemirror_mode": {
    "name": "ipython",
    "version": 3
   },
   "file_extension": ".py",
   "mimetype": "text/x-python",
   "name": "python",
   "nbconvert_exporter": "python",
   "pygments_lexer": "ipython3",
   "version": "3.9.12"
  },
  "orig_nbformat": 4
 },
 "nbformat": 4,
 "nbformat_minor": 2
}
