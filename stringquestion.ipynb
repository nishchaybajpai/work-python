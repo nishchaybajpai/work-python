{
 "cells": [
  {
   "cell_type": "code",
   "execution_count": 1,
   "metadata": {},
   "outputs": [
    {
     "name": "stdout",
     "output_type": "stream",
     "text": [
      "Hello\n"
     ]
    }
   ],
   "source": [
    "my_string = 'Hello'\n",
    "print(my_string)"
   ]
  },
  {
   "cell_type": "code",
   "execution_count": 10,
   "metadata": {},
   "outputs": [
    {
     "name": "stdout",
     "output_type": "stream",
     "text": [
      "5\n"
     ]
    }
   ],
   "source": [
    " def findLen(str):\n",
    "    counter = 0   \n",
    "    for i in str:\n",
    "        counter += 1\n",
    "    return counter\n",
    " \n",
    " \n",
    "str = \"geeks\"\n",
    "print(findLen(str))"
   ]
  },
  {
   "cell_type": "code",
   "execution_count": 4,
   "metadata": {},
   "outputs": [
    {
     "name": "stdout",
     "output_type": "stream",
     "text": [
      "boy\n"
     ]
    }
   ],
   "source": [
    "string = input(\"Enter your string: \")\n",
    "#splitting the string\n",
    "words = string.split()\n",
    "#slicing the list (negative index means index from the end)\n",
    "#-1 means the last element of the list\n",
    "print(words[-1])"
   ]
  },
  {
   "cell_type": "code",
   "execution_count": 7,
   "metadata": {},
   "outputs": [
    {
     "name": "stdout",
     "output_type": "stream",
     "text": [
      "They\n",
      "stumble\n",
      "who\n",
      "run\n",
      "fast\n"
     ]
    }
   ],
   "source": [
    "word = \"They stumble who run fast\"\n",
    "print(*word.split(), sep='\\n')"
   ]
  },
  {
   "cell_type": "code",
   "execution_count": 12,
   "metadata": {},
   "outputs": [
    {
     "name": "stdout",
     "output_type": "stream",
     "text": [
      "The original string is : Hello Word\n",
      "The reversed string(using reversed) is : droW olleH\n"
     ]
    }
   ],
   "source": [
    "def reverse(string):\n",
    "    string = \"\".join(reversed(string))\n",
    "    return string\n",
    " \n",
    "s = \"Hello Word\"\n",
    " \n",
    "print (\"The original string is : \",end=\"\")\n",
    "print (s)\n",
    " \n",
    "print (\"The reversed string(using reversed) is : \",end=\"\")\n",
    "print (reverse(s))"
   ]
  },
  {
   "cell_type": "code",
   "execution_count": 13,
   "metadata": {},
   "outputs": [
    {
     "name": "stdout",
     "output_type": "stream",
     "text": [
      "Original String : Python Examples\n",
      "Uppercase String : PYTHON EXAMPLES\n"
     ]
    }
   ],
   "source": [
    "mystring = 'Python Examples'\n",
    "print('Original String :',mystring)\n",
    "\n",
    "uppercase = mystring.upper()\n",
    "print('Uppercase String :',uppercase)"
   ]
  },
  {
   "cell_type": "code",
   "execution_count": 14,
   "metadata": {},
   "outputs": [
    {
     "name": "stdout",
     "output_type": "stream",
     "text": [
      "abcdf_1@3$\n"
     ]
    }
   ],
   "source": [
    "exampleString = \"AbCdF_1@3$\"\n",
    "lowercaseString = exampleString.lower()\n",
    "print(lowercaseString) "
   ]
  },
  {
   "cell_type": "code",
   "execution_count": 15,
   "metadata": {},
   "outputs": [
    {
     "name": "stdout",
     "output_type": "stream",
     "text": [
      "  python is easy to learn\n"
     ]
    }
   ],
   "source": [
    "my_list = ['python','is','easy','to','learn']\n",
    "my_string = \" \"\n",
    "for a in my_list:\n",
    "    my_string = my_string + ' ' + a\n",
    "print(my_string)"
   ]
  },
  {
   "cell_type": "code",
   "execution_count": 16,
   "metadata": {},
   "outputs": [
    {
     "name": "stdout",
     "output_type": "stream",
     "text": [
      "The only way to\n",
      "learn to program is\n",
      "by writing code.\n"
     ]
    }
   ],
   "source": [
    "my_string = '''The only way to\n",
    "learn to program is\n",
    "by writing code.'''\n",
    "\n",
    "print(my_string)"
   ]
  },
  {
   "cell_type": "code",
   "execution_count": 17,
   "metadata": {},
   "outputs": [
    {
     "name": "stdout",
     "output_type": "stream",
     "text": [
      "Hello\n",
      "This is\n",
      "Stechies\n",
      "for,\n",
      "Tech tutorials.\n"
     ]
    }
   ],
   "source": [
    "mystring = \"Hello\\n\\\n",
    "This is\\n\\\n",
    "Stechies\\n\\\n",
    "for,\\n\\\n",
    "Tech tutorials.\"\n",
    "\n",
    "# Print string\n",
    "print(mystring)"
   ]
  },
  {
   "cell_type": "code",
   "execution_count": 19,
   "metadata": {},
   "outputs": [
    {
     "name": "stdout",
     "output_type": "stream",
     "text": [
      "Hello 15 World!\n"
     ]
    }
   ],
   "source": [
    "language = \"15\"\n",
    "\n",
    "#Adding the language variable into a string\n",
    "print(\"Hello {} World!\".format(language))"
   ]
  },
  {
   "cell_type": "code",
   "execution_count": 22,
   "metadata": {},
   "outputs": [
    {
     "name": "stdout",
     "output_type": "stream",
     "text": [
      "python is great\n"
     ]
    }
   ],
   "source": [
    "s1 = \"python\"\n",
    "\n",
    "s2 = \"is\"\n",
    "\n",
    "s3 = \"great\"\n",
    "\n",
    "merged_string = \" \".join([s1, s2, s3])\n",
    "\n",
    "print(merged_string)"
   ]
  },
  {
   "cell_type": "code",
   "execution_count": 23,
   "metadata": {},
   "outputs": [
    {
     "name": "stdout",
     "output_type": "stream",
     "text": [
      "Hello\n",
      "Hello\n",
      "Hello\n",
      "Hello\n",
      "Hello\n",
      "Hello\n",
      "Hello\n",
      "Hello\n",
      "Hello\n",
      "Hello\n",
      "Hello\n",
      "Hello\n",
      "Hello\n",
      "Hello\n",
      "Hello\n",
      "Hello\n",
      "Hello\n",
      "Hello\n",
      "Hello\n",
      "Hello\n"
     ]
    }
   ],
   "source": [
    "for _ in range(20):\n",
    "    print(\"Hello\")"
   ]
  },
  {
   "cell_type": "code",
   "execution_count": 24,
   "metadata": {},
   "outputs": [
    {
     "name": "stdout",
     "output_type": "stream",
     "text": [
      "1 .\n",
      "2 .\n",
      "3 .\n",
      "4 .\n",
      "5 .\n",
      "6 .\n",
      "7 .\n",
      "8 .\n",
      "9 .\n"
     ]
    }
   ],
   "source": [
    "for i in range(1,9+1): \n",
    "    print(i,\".\") "
   ]
  },
  {
   "cell_type": "code",
   "execution_count": null,
   "metadata": {},
   "outputs": [],
   "source": []
  },
  {
   "cell_type": "code",
   "execution_count": 26,
   "metadata": {},
   "outputs": [
    {
     "name": "stdout",
     "output_type": "stream",
     "text": [
      "True\n",
      "False\n",
      "False\n",
      "False\n"
     ]
    }
   ],
   "source": [
    "text = \"geeks for geeks\"\n",
    "# returns False\n",
    "result = text.endswith('for geeks')\n",
    "print (result)\n",
    " \n",
    "# returns True\n",
    "result = text.endswith('geeks.')\n",
    "print (result)\n",
    " \n",
    "# returns True\n",
    "result = text.endswith('for geeks.')\n",
    "print (result)\n",
    " \n",
    "# returns True\n",
    "result = text.endswith('geeks for geeks.')\n",
    "print (result)"
   ]
  },
  {
   "cell_type": "code",
   "execution_count": 28,
   "metadata": {},
   "outputs": [
    {
     "name": "stdout",
     "output_type": "stream",
     "text": [
      "ram ram ram\n",
      "ram ram ram\n",
      "ram ram ram\n"
     ]
    }
   ],
   "source": [
    "# Double Words\n",
    "\n",
    "times = input('Ho w many times would you like to repeat your word?')\n",
    "\n",
    "word = input('Enter your word:')\n",
    "\n",
    "for times in times:\n",
    "    print(word)"
   ]
  },
  {
   "cell_type": "code",
   "execution_count": 31,
   "metadata": {},
   "outputs": [
    {
     "name": "stdout",
     "output_type": "stream",
     "text": [
      "Printing type of input value\n",
      "type of number  <class 'str'>\n"
     ]
    }
   ],
   "source": [
    "number1 = input(\"Enter number and hit enter \")\n",
    "print(\"Printing type of input value\")\n",
    "print(\"type of number \", type(number1))\n",
    " "
   ]
  },
  {
   "cell_type": "code",
   "execution_count": 35,
   "metadata": {},
   "outputs": [
    {
     "name": "stdout",
     "output_type": "stream",
     "text": [
      "this is not a good string  \n",
      "  this is not a good string\n",
      "this is not a good string\n"
     ]
    }
   ],
   "source": [
    "name = '  this is not a good string  '\n",
    "#remove spaces from left\n",
    "print (name.lstrip())\n",
    "\n",
    "#remove spaces from right\n",
    "print (name.rstrip())\n",
    "\n",
    "#remove spaces from both side\n",
    "print (name.strip())"
   ]
  },
  {
   "cell_type": "code",
   "execution_count": 42,
   "metadata": {},
   "outputs": [
    {
     "name": "stdout",
     "output_type": "stream",
     "text": [
      "True\n",
      "False\n"
     ]
    }
   ],
   "source": [
    "print( 'Z'.isupper())\n",
    "print( 'u'.isupper())"
   ]
  },
  {
   "cell_type": "code",
   "execution_count": 1,
   "metadata": {},
   "outputs": [
    {
     "name": "stdout",
     "output_type": "stream",
     "text": [
      "Original list:\n",
      "['Python', 'list', 'exercises', 'practice', 'solution']\n",
      "\n",
      "length of the string to extract:\n",
      "8\n",
      "\n",
      "After extracting strings of specified length from the said list:\n",
      "['practice', 'solution']\n"
     ]
    }
   ],
   "source": [
    "def extract_string(str_list1, l):\n",
    "    result = [e for e in str_list1 if len(e) == l] \n",
    "    return result\n",
    "\n",
    "str_list1 = ['Python', 'list', 'exercises', 'practice', 'solution'] \n",
    "print(\"Original list:\")\n",
    "print(str_list1)\n",
    "l = 8\n",
    "print(\"\\nlength of the string to extract:\")\n",
    "print(l)\n",
    "print(\"\\nAfter extracting strings of specified length from the said list:\") \n",
    "print(extract_string(str_list1 , l))\n"
   ]
  },
  {
   "cell_type": "code",
   "execution_count": 2,
   "metadata": {},
   "outputs": [
    {
     "name": "stdout",
     "output_type": "stream",
     "text": [
      "ab\n",
      "abcaye\n",
      "stringaye\n"
     ]
    }
   ],
   "source": [
    "def add_string(str1):\n",
    "  length = len(str1)\n",
    "\n",
    "  if length > 2:\n",
    "    if str1[-3:] == 'aye':\n",
    "      str1 += 'ly'\n",
    "    else:\n",
    "      str1 += 'aye'\n",
    "\n",
    "  return str1\n",
    "print(add_string('ab'))\n",
    "print(add_string('abc'))\n",
    "print(add_string('string'))\n"
   ]
  },
  {
   "cell_type": "code",
   "execution_count": 4,
   "metadata": {},
   "outputs": [
    {
     "name": "stdout",
     "output_type": "stream",
     "text": [
      "False\n"
     ]
    }
   ],
   "source": [
    "txt = \"The rain in Spain stays mainly in the plain\"\n",
    "x = \"fyi\" in txt\n",
    "print(x)"
   ]
  },
  {
   "cell_type": "code",
   "execution_count": 7,
   "metadata": {},
   "outputs": [
    {
     "name": "stdout",
     "output_type": "stream",
     "text": [
      "HeyWhatsupbro\n"
     ]
    }
   ],
   "source": [
    "import re\n",
    "\n",
    "string = \"Hey! What's up bro?\"\n",
    "new_string = re.sub(r\"[^a-zA-Z0-9]\",\"\",string)\n",
    "print(new_string)"
   ]
  },
  {
   "cell_type": "code",
   "execution_count": 8,
   "metadata": {},
   "outputs": [],
   "source": [
    "def main():\n",
    "\n",
    "    sentence = input('this is a paragraph which is written just for the purpose of providing content to let the average word length be calculated:  ')\n",
    "    SumAccum = 0\n",
    "    for ch in sentence.split():\n",
    "        character = len(ch)\n",
    "        SumAccum = SumAccum + character\n",
    "\n",
    "    average = (SumAccum) / (len(sentence.split()))\n",
    "    print(average)"
   ]
  },
  {
   "cell_type": "code",
   "execution_count": null,
   "metadata": {},
   "outputs": [],
   "source": []
  }
 ],
 "metadata": {
  "kernelspec": {
   "display_name": "Python 3.9.12 ('base')",
   "language": "python",
   "name": "python3"
  },
  "language_info": {
   "codemirror_mode": {
    "name": "ipython",
    "version": 3
   },
   "file_extension": ".py",
   "mimetype": "text/x-python",
   "name": "python",
   "nbconvert_exporter": "python",
   "pygments_lexer": "ipython3",
   "version": "3.9.12"
  },
  "orig_nbformat": 4,
  "vscode": {
   "interpreter": {
    "hash": "27cc5fa2f1c0690f64ae09bbe4550c209ad4047394f2de3349078307a048dc7a"
   }
  }
 },
 "nbformat": 4,
 "nbformat_minor": 2
}
